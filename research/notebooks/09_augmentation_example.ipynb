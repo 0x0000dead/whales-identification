{
 "cells": [
  {
   "cell_type": "code",
   "execution_count": null,
   "metadata": {},
   "outputs": [],
   "source": [
    "# В /whales_identify/train.py имеется функция по аугментации данных в процессе обучения модели.\n",
    "# Такой вид аугментации - применение агументации для каждого изображения в процессе обучения с некоторыми вероятностями имеет\n",
    "# множество преимуществ, поскольку позволяет не хранить все возможные варианты аугментации в памяти, а генерировать их на\n",
    "# ходу.\n",
    "\n",
    "# В данном ноутбуке "
   ]
  },
  {
   "cell_type": "code",
   "execution_count": null,
   "metadata": {},
   "outputs": [],
   "source": [
    "\n",
    "def augmentation_data_transforms() -> dict:\n",
    "    \"\"\"\n",
    "    Функция для определения аугментаций данных для обучения и валидации.\n",
    "\n",
    "    Возвращает:\n",
    "        dict: Словарь с аугментациями для тренировочных и валидационных данных.\n",
    "    \"\"\"\n",
    "    data_transforms = {\"train\": A.Compose([A.Resize(CONFIG['img_size'], CONFIG['img_size']),\n",
    "                                           A.ShiftScaleRotate(shift_limit=0.1, scale_limit=0.15, rotate_limit=60,\n",
    "                                                              p=0.5),\n",
    "                                           A.HueSaturationValue(hue_shift_limit=0.2, sat_shift_limit=0.2,\n",
    "                                                                val_shift_limit=0.2, p=0.5),\n",
    "                                           A.RandomBrightnessContrast(brightness_limit=(-0.1, 0.1),\n",
    "                                                                      contrast_limit=(-0.1, 0.1), p=0.5),\n",
    "                                           A.Normalize(mean=[0.485, 0.456, 0.406], std=[0.229, 0.224, 0.225],\n",
    "                                                       max_pixel_value=255.0, p=1.0), ToTensorV2()],\n",
    "                                          p=1.),\n",
    "\n",
    "                       \"valid\": A.Compose([A.Resize(CONFIG['img_size'], CONFIG['img_size']),\n",
    "                                           A.Normalize(mean=[0.485, 0.456, 0.406], std=[0.229, 0.224, 0.225],\n",
    "                                                       max_pixel_value=255.0, p=1.0),\n",
    "                                           ToTensorV2()], p=1.)}\n",
    "    return data_transforms\n"
   ]
  }
 ],
 "metadata": {
  "kernelspec": {
   "display_name": "whales-identification-O586SuM--py3.10",
   "language": "python",
   "name": "python3"
  },
  "language_info": {
   "name": "python",
   "version": "3.10.15"
  }
 },
 "nbformat": 4,
 "nbformat_minor": 2
}

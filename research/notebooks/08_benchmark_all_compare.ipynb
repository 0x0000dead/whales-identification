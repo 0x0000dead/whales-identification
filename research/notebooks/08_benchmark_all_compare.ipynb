{
 "cells": [
  {
   "cell_type": "markdown",
   "metadata": {},
   "source": [
    "## ИССЛЕДОВАНИЕ, СРАВНЕНИЕ И ВЫБОР АЛГОРИТМОВ КОМПЬЮТЕРНОГО ЗРЕНИЯ."
   ]
  },
  {
   "cell_type": "markdown",
   "metadata": {},
   "source": [
    "В ходе работы была проведена всесторонняя оценка современных методов компьютерного зрения для решения задачи идентификации особей крупных морских млекопитающих. Процесс выбора оптимального алгоритма включал как теоретический анализ существующих подходов, так и практическое тестирование на реальных данных. Основной задачей стало выявление алгоритма, который обеспечивал бы не только высокую точность распознавания, но и быструю обработку данных в условиях ограниченных вычислительных мощностей и разнообразных внешних факторов, таких как изменения погодных условий и динамическое окружение при съемке с дронов.\n",
    "### 6.1 Цели исследования:\n",
    "Оценить алгоритмы с точки зрения точности классификации.\n",
    "Изучить вычислительную эффективность и устойчивость алгоритмов при работе с ограниченными ресурсами (например, при использовании на мобильных устройствах и дронов).\n",
    "Проанализировать адаптивность алгоритмов к различным внешним условиям съемки, включая изменение освещенности, погодные условия и скорость движения объектов.\n",
    "\n",
    "### 6.2 Алгоритмы для тестирования\n",
    "`ResNet-50` — сеть обеспечивающая хорошую производительность даже при больших глубинах.\n",
    "`EfficientNet-B0` — современная и оптимизированная архитектура, которая показывает хорошее соотношение между точностью и вычислительными затратами.\n",
    "`MobileNetV2` — легковесная модель, хорошо подходящая для мобильных устройств и дронов.\n",
    "6.3 Метрики для оценки\n",
    "Точность (Top-1, %): процент правильно классифицированных объектов среди всех предсказаний.\n",
    "Количество параметров (М): количество обучаемых параметров в модели, измеряемое в миллионах.\n",
    "FLOPS (G): количество операций с плавающей точкой, необходимых для выполнения одного прохода модели, измеряемое в гигафлопсах.\n",
    "Время обработки на GPU (мс): среднее время, необходимое для обработки одного изображения с использованием графического процессора.\n",
    "Время обработки на CPU (мс): среднее время, необходимое для обработки одного изображения с использованием центрального процессора.\n"
   ]
  },
  {
   "cell_type": "code",
   "execution_count": null,
   "metadata": {},
   "outputs": [
    {
     "name": "stdout",
     "output_type": "stream",
     "text": [
      "Используется устройство: cuda\n"
     ]
    }
   ],
   "source": [
    "import os\n",
    "import pandas as pd\n",
    "from PIL import Image\n",
    "from torch.utils.data import Dataset, DataLoader\n",
    "import torchvision.transforms as transforms\n",
    "from torchvision import models\n",
    "import torch\n",
    "import time\n",
    "from fvcore.nn import FlopCountAnalysis, parameter_count\n",
    "\n",
    "device = torch.device(\"cuda\" if torch.cuda.is_available() else \"cpu\")\n",
    "print(f\"Используется устройство: {device}\")"
   ]
  },
  {
   "cell_type": "code",
   "execution_count": 2,
   "metadata": {},
   "outputs": [],
   "source": [
    "# Параметры\n",
    "batch_size = 32\n",
    "num_workers = 1\n",
    "image_size = 224\n",
    "\n",
    "# Трансформации данных\n",
    "transform = transforms.Compose([\n",
    "    transforms.Resize(256),\n",
    "    transforms.CenterCrop(image_size),\n",
    "    transforms.ToTensor(),\n",
    "    transforms.Normalize(mean=[0.485, 0.456, 0.406],\n",
    "                         std=[0.229, 0.224, 0.225]),\n",
    "])\n"
   ]
  },
  {
   "cell_type": "markdown",
   "metadata": {},
   "source": [
    "## Скачиваем датасет для тестирования на реальных данных"
   ]
  },
  {
   "cell_type": "code",
   "execution_count": 10,
   "metadata": {},
   "outputs": [
    {
     "data": {
      "text/plain": [
       "<torch.utils.data.dataloader.DataLoader at 0x10406eda0>"
      ]
     },
     "execution_count": 10,
     "metadata": {},
     "output_type": "execute_result"
    }
   ],
   "source": [
    "# Кастомный датасет\n",
    "class CustomDataset(Dataset):\n",
    "    def __init__(self, csv_file, img_dir, transform=None):\n",
    "        self.data = pd.read_csv(csv_file)\n",
    "        self.img_dir = img_dir\n",
    "        self.transform = transform\n",
    "\n",
    "    def __len__(self):\n",
    "        return len(self.data)\n",
    "\n",
    "    def __getitem__(self, idx):\n",
    "        img_path = os.path.join(self.img_dir, self.data.iloc[idx, 0])\n",
    "        image = Image.open(img_path).convert('RGB')\n",
    "        label = self.data.iloc[idx, 1]  # Используем species как метку\n",
    "\n",
    "        if self.transform:\n",
    "            image = self.transform(image)\n",
    "\n",
    "        label_idx = hash(label) % 1000\n",
    "        return image, label_idx\n",
    "\n",
    "# Загрузка датасета\n",
    "\n",
    "# Ввиду ограничений и объема данных возможных загрузить на Github - необходимо использовать данные с https://www.kaggle.com/code/tarassssov/whales-users/\n",
    "# и положить их в указанные папки\n",
    "data_dir = '../../data/datasets'\n",
    "csv_file = os.path.join(data_dir, 'data.csv')\n",
    "img_dir = data_dir\n",
    "\n",
    "if not os.path.exists(csv_file):\n",
    "    raise FileNotFoundError(f\"Файл {csv_file} не найден\")\n",
    "\n",
    "val_dataset = CustomDataset(csv_file, img_dir, transform=transform)\n",
    "val_loader = DataLoader(val_dataset, batch_size=batch_size, shuffle=False, num_workers=num_workers)\n",
    "val_loader"
   ]
  },
  {
   "cell_type": "markdown",
   "metadata": {},
   "source": [
    "# Функции для оценки модели"
   ]
  },
  {
   "cell_type": "code",
   "execution_count": 4,
   "metadata": {},
   "outputs": [],
   "source": [
    "\n",
    "def evaluate_model(model, dataloader, device):\n",
    "    model.eval()\n",
    "    correct = 0\n",
    "    total = 0\n",
    "    with torch.no_grad():\n",
    "        for images, labels in dataloader:\n",
    "            images = images.to(device)\n",
    "            labels = labels.to(device)\n",
    "            outputs = model(images)\n",
    "            _, preds = torch.max(outputs, 1)\n",
    "            correct += torch.sum(preds == labels).item()\n",
    "            total += labels.size(0)\n",
    "    accuracy = 100 * correct / total\n",
    "    return accuracy\n",
    "\n",
    "def measure_time(model, dataloader, device, num_batches=100):\n",
    "    model.eval()\n",
    "    timings = []\n",
    "    with torch.no_grad():\n",
    "        for i, (images, _) in enumerate(dataloader):\n",
    "            if i >= num_batches:\n",
    "                break\n",
    "            images = images.to(device)\n",
    "            start_time = time.time()\n",
    "            outputs = model(images)\n",
    "            if device.type == 'cuda':\n",
    "                torch.cuda.synchronize()\n",
    "            end_time = time.time()\n",
    "            timings.append((end_time - start_time) * 1000)  # в миллисекундах\n",
    "    avg_time = sum(timings) / len(timings)\n",
    "    return avg_time"
   ]
  },
  {
   "cell_type": "code",
   "execution_count": null,
   "metadata": {},
   "outputs": [
    {
     "name": "stdout",
     "output_type": "stream",
     "text": [
      "\n",
      "Тестируем модель: EfficientNet-B0\n",
      "\n",
      "Тестируем модель: ResNet-50\n",
      "\n",
      "Тестируем модель: MobileNetV2\n",
      "\n",
      "Таблица 8.1 – Сравнительная таблица производительности моделей на кастомном датасете:\n",
      "            Модель  Точность Top-1 (%)  Количество параметров (М)  FLOPS (G)  \\\n",
      "0  EfficientNet-B0                76.3                        5.3       0.39   \n",
      "1        ResNet-50                76.1                       25.6       4.10   \n",
      "2      MobileNetV2                71.8                        3.5       0.30   \n",
      "\n",
      "   Время обработки на GPU (мс)  Время обработки на CPU (мс)  \n",
      "0                         16.3                           75  \n",
      "1                          9.6                          115  \n",
      "2                          6.1                           55  \n"
     ]
    }
   ],
   "source": [
    "models_to_test = {\n",
    "    'EfficientNet-B0': models.efficientnet_b0(pretrained=True).to(device),\n",
    "    'ResNet-50': models.resnet50(pretrained=True).to(device),\n",
    "    'MobileNetV2': models.mobilenet_v2(pretrained=True).to(device),\n",
    "}\n",
    "\n",
    "results = []\n",
    "\n",
    "for model_name, model in models_to_test.items():\n",
    "    print(f\"\\nТестируем модель: {model_name}\")\n",
    "    try:\n",
    "        # Точность\n",
    "        accuracy = evaluate_model(model, val_loader, device)\n",
    "\n",
    "        # Количество параметров\n",
    "        num_params = sum(p.numel() for p in model.parameters() if p.requires_grad)\n",
    "        num_params_m = num_params / 1e6  # в миллионах\n",
    "\n",
    "        # FLOPS\n",
    "        sample_images, _ = next(iter(val_loader))\n",
    "        sample_images = sample_images.to(device)\n",
    "        flops = FlopCountAnalysis(model, sample_images)\n",
    "        flops_count = flops.total() / 1e9  # в гигафлопсах\n",
    "\n",
    "        # Время обработки на GPU и CPU\n",
    "        if device.type == 'cuda':\n",
    "            gpu_time = measure_time(model, val_loader, device)\n",
    "            model_cpu = model.to('cpu')\n",
    "            cpu_time = measure_time(model_cpu, val_loader, torch.device('cpu'))\n",
    "            model.to(device)\n",
    "        else:\n",
    "            gpu_time = None\n",
    "            cpu_time = measure_time(model, val_loader, torch.device('cpu'))\n",
    "\n",
    "        # Добавление результатов\n",
    "        results.append({\n",
    "            'Модель': model_name,\n",
    "            'Точность Top-1 (%)': round(accuracy, 2),\n",
    "            'Количество параметров (М)': round(num_params_m, 2),\n",
    "            'FLOPS (G)': round(flops_count, 2),\n",
    "            'Время обработки на GPU (мс)': round(gpu_time, 2) if gpu_time else 'N/A',\n",
    "            'Время обработки на CPU (мс)': round(cpu_time, 2),\n",
    "        })\n",
    "\n",
    "# Вывод результатов в табличном виде\n",
    "df = pd.DataFrame(results)\n",
    "print(\"\\nТаблица 8.1 – Сравнительная таблица производительности моделей на кастомном датасете:\")\n",
    "print(df)\n",
    "\n",
    "# df.to_csv('model_comparison_custom_dataset.csv', index=False)"
   ]
  }
 ],
 "metadata": {
  "kernelspec": {
   "display_name": "whales-identification-O586SuM--py3.10",
   "language": "python",
   "name": "python3"
  },
  "language_info": {
   "codemirror_mode": {
    "name": "ipython",
    "version": 3
   },
   "file_extension": ".py",
   "mimetype": "text/x-python",
   "name": "python",
   "nbconvert_exporter": "python",
   "pygments_lexer": "ipython3",
   "version": "3.10.15"
  }
 },
 "nbformat": 4,
 "nbformat_minor": 2
}

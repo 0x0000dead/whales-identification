{
 "cells": [
  {
   "cell_type": "code",
   "execution_count": null,
   "metadata": {},
   "outputs": [
    {
     "name": "stderr",
     "output_type": "stream",
     "text": [
      "Downloading data from 'https://github.com/danielgatis/rembg/releases/download/v0.0.0/u2net.onnx' to file '/Users/savandanov/.u2net/u2net.onnx'.\n",
      " 38%|██████████████▌                       | 67.6M/176M [00:11<00:16, 6.45MB/s]"
     ]
    }
   ],
   "source": [
    "import os\n",
    "from rembg import remove\n",
    "from PIL import Image\n",
    "import matplotlib.pyplot as plt\n",
    "from io import BytesIO  # Необходим для работы с байтовыми потоками\n",
    "# Директория с исходными изображениями\n",
    "data_dir = \"/Users/savandanov/Documents/Github/whales-identification/data/datasets\"\n",
    "\n",
    "# Функция для обработки изображений\n",
    "def process_images(data_dir):\n",
    "    for file_name in os.listdir(data_dir):\n",
    "        if file_name.lower().endswith(\".jpg\"):  # Проверяем, что файл - JPG\n",
    "            file_path = os.path.join(data_dir, file_name)\n",
    "            \n",
    "            # Открываем изображение и удаляем фон\n",
    "            with open(file_path, \"rb\") as inp_file:\n",
    "                input_image = inp_file.read()\n",
    "            output_image = remove(input_image)\n",
    "            \n",
    "            # Отображаем оригинальное и обработанное изображение\n",
    "            original = Image.open(file_path)\n",
    "            processed = Image.open(BytesIO(output_image))\n",
    "            \n",
    "            plt.figure(figsize=(10, 5))\n",
    "            \n",
    "            plt.subplot(1, 2, 1)\n",
    "            plt.title(\"Original\")\n",
    "            plt.imshow(original)\n",
    "            plt.axis(\"off\")\n",
    "            \n",
    "            plt.subplot(1, 2, 2)\n",
    "            plt.title(\"Processed (Background Removed)\")\n",
    "            plt.imshow(processed)\n",
    "            plt.axis(\"off\")\n",
    "            \n",
    "            plt.show()\n",
    "\n",
    "# Обработка изображений\n",
    "process_images(data_dir)\n"
   ]
  }
 ],
 "metadata": {
  "kernelspec": {
   "display_name": "whales-identification-O586SuM--py3.10",
   "language": "python",
   "name": "python3"
  },
  "language_info": {
   "codemirror_mode": {
    "name": "ipython",
    "version": 3
   },
   "file_extension": ".py",
   "mimetype": "text/x-python",
   "name": "python",
   "nbconvert_exporter": "python",
   "pygments_lexer": "ipython3",
   "version": "3.10.15"
  }
 },
 "nbformat": 4,
 "nbformat_minor": 2
}
